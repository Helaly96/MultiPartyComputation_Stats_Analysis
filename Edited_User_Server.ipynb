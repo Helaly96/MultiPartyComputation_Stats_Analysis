{
  "nbformat": 4,
  "nbformat_minor": 0,
  "metadata": {
    "colab": {
      "provenance": []
    },
    "kernelspec": {
      "name": "python3",
      "display_name": "Python 3"
    },
    "language_info": {
      "name": "python"
    }
  },
  "cells": [
    {
      "cell_type": "code",
      "source": [
        "!pip install phe"
      ],
      "metadata": {
        "colab": {
          "base_uri": "https://localhost:8080/"
        },
        "id": "nWVAakAoIXKE",
        "outputId": "3b18f815-4dd6-4407-8731-6c04d8033923"
      },
      "execution_count": 1,
      "outputs": [
        {
          "output_type": "stream",
          "name": "stdout",
          "text": [
            "Collecting phe\n",
            "  Downloading phe-1.5.0-py2.py3-none-any.whl (53 kB)\n",
            "\u001b[2K     \u001b[90m━━━━━━━━━━━━━━━━━━━━━━━━━━━━━━━━━━━━━━━━\u001b[0m \u001b[32m53.7/53.7 kB\u001b[0m \u001b[31m723.7 kB/s\u001b[0m eta \u001b[36m0:00:00\u001b[0m\n",
            "\u001b[?25hInstalling collected packages: phe\n",
            "Successfully installed phe-1.5.0\n"
          ]
        }
      ]
    },
    {
      "cell_type": "code",
      "source": [
        "import random\n",
        "import requests\n",
        "import pickle\n",
        "from phe import paillier"
      ],
      "metadata": {
        "id": "EFu-etedhlY-"
      },
      "execution_count": 2,
      "outputs": []
    },
    {
      "cell_type": "code",
      "source": [
        "# Get the public key\n",
        "response = requests.get('https://helaly6auc.pythonanywhere.com/get_public_key')\n",
        "filename = \"pickled_public_key.pb\"\n",
        "with open(filename,'wb') as f:\n",
        "  f.write(response.content)"
      ],
      "metadata": {
        "id": "OyXBalAghvE4"
      },
      "execution_count": 3,
      "outputs": []
    },
    {
      "cell_type": "code",
      "source": [
        "import numpy as np"
      ],
      "metadata": {
        "id": "JbqWdTvyQDrk"
      },
      "execution_count": 4,
      "outputs": []
    },
    {
      "cell_type": "code",
      "execution_count": 5,
      "metadata": {
        "id": "cSsm2_gfJB3X"
      },
      "outputs": [],
      "source": [
        "# Retreive Public key from auth server public and private key pair\n",
        "with open('/content/pickled_public_key.pb','rb') as file:\n",
        "  pickled_public_key = file.read()\n",
        "\n",
        "unpickled_public_key = pickle.loads(pickled_public_key)\n",
        "# Assume that the number of minions is 2\n",
        "class user:\n",
        "  def __init__(self,personalData,public_key):\n",
        "    self._personal_val = personalData;\n",
        "    self.public_key= unpickled_public_key\n",
        "    self._personal_data_split = [];\n",
        "    self._personal_data_split_encrypted = [];\n",
        "    self.divide_val_to_shares(2)\n",
        "    self.encrypt_shares()\n",
        "    self.binaries_of_votes= self.binary_representation()\n",
        "    self.binaries_of_votes_encrypted=[]\n",
        "    self.encrypt_binaries()\n",
        "    self.url1= \"https://yomna6auc.pythonanywhere.com/send_shares_minion1\"\n",
        "    self.url2= \"https://yomna6auc.pythonanywhere.com/send_shares_minion2\"\n",
        "    self.url3= \"https://yomna6auc.pythonanywhere.com/send_binary_answer\"\n",
        "\n",
        "\n",
        "  def encrypt_shares(self):\n",
        "    for plain_answer_share_vector in self._personal_data_split:\n",
        "      encryptedAnswer = [ self.public_key.encrypt(plain_text_share_vector) for plain_text_share_vector in plain_answer_share_vector]\n",
        "      self._personal_data_split_encrypted.append(encryptedAnswer)\n",
        "\n",
        "  def divide_val_to_shares(self, n):\n",
        "    shares = []\n",
        "    answerNo = 1\n",
        "    for v in self._personal_val:\n",
        "      answerNo=answerNo+1\n",
        "      shares = [random.randint(-10,10) for _ in range(n-1)]\n",
        "      shares.append(v - sum(shares))\n",
        "      self._personal_data_split.append(shares)\n",
        "\n",
        "  def binary_representation(self):\n",
        "    binary = []\n",
        "    for i in self._personal_val:\n",
        "      binary_t = [0]*5\n",
        "      if 1 <= i <= 5:\n",
        "        binary_t[i - 1] = 1\n",
        "        binary.append(binary_t)\n",
        "    return binary\n",
        "\n",
        "  def convert_to_numpy(self):\n",
        "    self._personal_data_split_encrypted=np.array(self._personal_data_split_encrypted)\n",
        "    self._personal_data_split=np.array(self._personal_data_split)\n",
        "\n",
        "  def encrypt_binaries(self):\n",
        "      for plain_answer_share_vector in self.binaries_of_votes:\n",
        "        encryptedAnswer = [ self.public_key.encrypt(plain_text_share_vector) for plain_text_share_vector in plain_answer_share_vector]\n",
        "        self.binaries_of_votes_encrypted.append(encryptedAnswer)\n",
        "\n",
        "  def pickle_and_send(self,data_to_send,url):\n",
        "      # convert the encrypted result to pickles\n",
        "      pickled_result_from_poll_server = pickle.dumps(data_to_send,protocol=2)\n",
        "      # Header to be used  in the post request\n",
        "      headers = {'Content-Type': 'application/octet-stream'}\n",
        "      # send the encrypted data to the remote auth server to decrypt it\n",
        "      try:\n",
        "          response = requests.post(url, data=pickled_result_from_poll_server, headers=headers)\n",
        "          response.raise_for_status()\n",
        "          print(response.text)\n",
        "      except requests.exceptions.RequestException as e:\n",
        "          print(f\"Error: {e}\")\n",
        "          print(response.text)\n",
        "\n",
        "  def send_to_minion_1(self):\n",
        "    data_to_send= self._personal_data_split_encrypted[:,0].tolist()\n",
        "    self.pickle_and_send(data_to_send,self.url1)\n",
        "\n",
        "  def send_to_minion_2(self):\n",
        "    data_to_send= self._personal_data_split_encrypted[:,1].tolist()\n",
        "    self.pickle_and_send(data_to_send,self.url2)\n",
        "\n",
        "\n",
        "  def send_to_minion_binary(self):\n",
        "    data_to_send= self.binaries_of_votes_encrypted\n",
        "    self.pickle_and_send(data_to_send,self.url3)\n"
      ]
    },
    {
      "cell_type": "code",
      "source": [
        "U1= user([4,3,3,1],unpickled_public_key)\n",
        "U1.encrypt_shares()\n",
        "U1.convert_to_numpy()\n",
        "U1.send_to_minion_1()\n",
        "U1.send_to_minion_2()\n",
        "U1.send_to_minion_binary()\n",
        "#######################\n",
        "U2= user([2,3,1,5],unpickled_public_key)\n",
        "U2.encrypt_shares()\n",
        "U2.convert_to_numpy()\n",
        "U2.send_to_minion_1()\n",
        "U2.send_to_minion_2()\n",
        "U2.send_to_minion_binary()\n",
        "#######################\n",
        "U3= user([2,1,3,4],unpickled_public_key)\n",
        "U3.encrypt_shares()\n",
        "U3.convert_to_numpy()\n",
        "U3.send_to_minion_1()\n",
        "U3.send_to_minion_2()\n",
        "U3.send_to_minion_binary()\n",
        "#######################\n",
        "response = requests.get('https://yomna6auc.pythonanywhere.com/run_stats')\n",
        "print(response.text)\n",
        "#######################\n",
        "response = requests.get('https://yomna6auc.pythonanywhere.com/run_stats_mod')\n",
        "print(response.text)"
      ],
      "metadata": {
        "id": "CeXs_hvDQ0Jp",
        "colab": {
          "base_uri": "https://localhost:8080/"
        },
        "outputId": "532ee4aa-c808-49fc-bf36-76920a49da07"
      },
      "execution_count": 6,
      "outputs": [
        {
          "output_type": "stream",
          "name": "stdout",
          "text": [
            "{\"data shares in minion 1: \":\"hello minion 1\"}\n",
            "\n",
            "{\"data shares in minion 1: \":\"hello minion 1\"}\n",
            "\n",
            "{\"data shares in minion 2: \":\"hello minion 2\"}\n",
            "\n",
            "{\"data shares in minion 1: \":\"hello minion 1\"}\n",
            "\n",
            "{\"data shares in minion 1: \":\"hello minion 1\"}\n",
            "\n",
            "{\"data shares in minion 2: \":\"hello minion 2\"}\n",
            "\n",
            "{\"data shares in minion 1: \":\"hello minion 1\"}\n",
            "\n",
            "{\"data shares in minion 1: \":\"hello minion 1\"}\n",
            "\n",
            "{\"data shares in minion 2: \":\"hello minion 2\"}\n",
            "\n",
            "{\"success\":\"success in receiving\"}\n",
            "\n",
            "{\"success\":\"success in receiving binary matrix\"}\n",
            "\n"
          ]
        }
      ]
    },
    {
      "cell_type": "code",
      "source": [
        "# response = requests.get('https://yomna6auc.pythonanywhere.com/run_stats')\n",
        "# print(response.text)"
      ],
      "metadata": {
        "id": "O_VSeEPmWlU5"
      },
      "execution_count": null,
      "outputs": []
    },
    {
      "cell_type": "code",
      "source": [
        "# response = requests.get('https://yomna6auc.pythonanywhere.com/run_stats_mod')\n",
        "# print(response.text)"
      ],
      "metadata": {
        "id": "YUwrKYfLZ_qX",
        "colab": {
          "base_uri": "https://localhost:8080/"
        },
        "outputId": "63237829-ca99-43ea-e13b-3ddbdb96907d"
      },
      "execution_count": null,
      "outputs": [
        {
          "output_type": "stream",
          "name": "stdout",
          "text": [
            "{\"success\":\"success in receiving binary matrix\"}\n",
            "\n"
          ]
        }
      ]
    },
    {
      "cell_type": "code",
      "source": [],
      "metadata": {
        "id": "jE9i9KLX_rz1"
      },
      "execution_count": null,
      "outputs": []
    }
  ]
}